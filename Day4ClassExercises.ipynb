{
 "cells": [
  {
   "cell_type": "code",
   "execution_count": 6,
   "metadata": {},
   "outputs": [
    {
     "name": "stdout",
     "output_type": "stream",
     "text": [
      "-->hello\n",
      "Hello to you\n",
      "-->Hello\n",
      "Hello to you\n",
      "-->How are you?\n",
      "I am fine.\n",
      "-->goodbye\n",
      "goodbye\n"
     ]
    }
   ],
   "source": [
    "def strip_punctuation(sentence):\n",
    "    puncMark = \",.?;!\"\n",
    "    for char in puncMark:\n",
    "        sentence = sentence.replace(char, \" \")\n",
    "    return sentence\n",
    "\n",
    "answer = \" \"\n",
    "while answer != \"goodbye\":\n",
    "    answer = strip_punctuation(input(\"-->\"))\n",
    "    answer = answer.lower()\n",
    "    answer = answer.strip()\n",
    "    if answer == \"goodbye\":\n",
    "        print(\"goodbye\")\n",
    "    elif answer == \"how are you\":\n",
    "        print(\"I am fine.\")\n",
    "    elif answer == \"hello\":\n",
    "        print(\"Hello to you\")\n",
    "    elif answer == \"i'm tired\":\n",
    "        print(\"Have you been exercising?\")\n",
    "    elif answer == \"what is your name\":\n",
    "        print(\"Siri.  What is your name?\")\n",
    "    elif answer == \"michael\":\n",
    "        print(\"Hello, Michael\")\n",
    "    else:\n",
    "        print(\"Hmm, you don't say?\")"
   ]
  },
  {
   "cell_type": "code",
   "execution_count": 22,
   "metadata": {},
   "outputs": [],
   "source": [
    "class Scooter:\n",
    "    def __init__ (self, model, color, topSpeed):\n",
    "        self.model = model\n",
    "        self.color = color\n",
    "        self.speed = 0\n",
    "        if topSpeed > 100:\n",
    "            self.topSpeed = 100\n",
    "        else:\n",
    "            self.topSpeed = topSpeed\n",
    "            \n",
    "    def stop(self):\n",
    "        self.speed = 0\n",
    "        print(self.speed)\n",
    "    \n",
    "    def accelerate(self):\n",
    "        self.speed = self.speed + 10\n",
    "        if self.speed > self.topSpeed:\n",
    "            self.speed = self.topSpeed\n",
    "        print(self.speed)\n",
    "        \n",
    "    def decelerate(self):\n",
    "        self.speed = self.speed - 10\n",
    "        if self.speed < 0:\n",
    "            self.speed = 0\n",
    "        print(self.speed)    \n",
    "        "
   ]
  },
  {
   "cell_type": "code",
   "execution_count": 31,
   "metadata": {},
   "outputs": [
    {
     "name": "stdout",
     "output_type": "stream",
     "text": [
      "10\n",
      "20\n",
      "30\n",
      "20\n",
      "0\n",
      "0\n",
      "red\n",
      "blue\n"
     ]
    }
   ],
   "source": [
    "myscooter = Scooter(\"sony\", \"red\", 95)\n",
    "myscooter.accelerate()\n",
    "myscooter.accelerate()\n",
    "myscooter.accelerate()\n",
    "myscooter.decelerate()\n",
    "myscooter.stop()\n",
    "myscooter.decelerate()\n",
    "print(myscooter.color)\n",
    "myscooter.color = \"blue\"\n",
    "print(myscooter.color)"
   ]
  },
  {
   "cell_type": "code",
   "execution_count": 74,
   "metadata": {},
   "outputs": [],
   "source": [
    "class Job:\n",
    "    def __init__(self, title, duration, description, company):\n",
    "        self.title = title\n",
    "        self.duration = duration\n",
    "        self.description = description\n",
    "        self.company = company\n",
    "        \n",
    "    def output(self):\n",
    "        print(self.title, \"@\", self.company)\n",
    "        print(self.duration)\n",
    "        print(self.description)\n",
    "        \n",
    "class Education:\n",
    "    def __init__(self, college, GPA, gradYear):\n",
    "        self.college = college\n",
    "        self.GPA = GPA\n",
    "        self.gradYear = gradYear\n",
    "        \n",
    "    def output(self):\n",
    "        print(self.college)\n",
    "        print(self.GPA)\n",
    "        print(self.gradYear)"
   ]
  },
  {
   "cell_type": "code",
   "execution_count": 96,
   "metadata": {},
   "outputs": [],
   "source": [
    "class Resume:\n",
    "    def __init__(self, name, phone, email):\n",
    "        self.name = name\n",
    "        self.phone = phone\n",
    "        self.email = email\n",
    "        self.experience = []\n",
    "        self.education = []\n",
    "        \n",
    "    def output(self):\n",
    "        print(self.name)\n",
    "        print(self.phone)\n",
    "        print(self.email)\n",
    "        print(\"\\nExperience\")\n",
    "        for j in self.experience:\n",
    "            j.output()\n",
    "        print(\"\\nEducation\")\n",
    "        for k in self.education:\n",
    "            k.output()\n",
    "            \n",
    "    def addJob(self, title, duration, description, company):\n",
    "        j = Job(title, duration, description, company)\n",
    "        self.experience.append(j)\n",
    "        \n",
    "    def addEducation(self, college, GPA, gradYear):\n",
    "        k = Education(college, GPA, gradYear)\n",
    "        self.education.append(k)"
   ]
  },
  {
   "cell_type": "code",
   "execution_count": 97,
   "metadata": {},
   "outputs": [],
   "source": [
    "myresume = Resume(\"Michael\", \"555\", \"test\")"
   ]
  },
  {
   "cell_type": "code",
   "execution_count": 98,
   "metadata": {},
   "outputs": [
    {
     "name": "stdout",
     "output_type": "stream",
     "text": [
      "Michael\n",
      "555\n",
      "test\n",
      "\n",
      "Experience\n",
      "\n",
      "Education\n"
     ]
    }
   ],
   "source": [
    "myresume.output()\n"
   ]
  },
  {
   "cell_type": "code",
   "execution_count": 99,
   "metadata": {},
   "outputs": [],
   "source": [
    "myresume.addJob(\"programmer\", \"2019-present\", \"programmed\", \"IBM\")"
   ]
  },
  {
   "cell_type": "code",
   "execution_count": 100,
   "metadata": {},
   "outputs": [
    {
     "name": "stdout",
     "output_type": "stream",
     "text": [
      "Michael\n",
      "555\n",
      "test\n",
      "\n",
      "Experience\n",
      "programmer @ IBM\n",
      "2019-present\n",
      "programmed\n",
      "\n",
      "Education\n"
     ]
    }
   ],
   "source": [
    "myresume.output()"
   ]
  },
  {
   "cell_type": "code",
   "execution_count": 101,
   "metadata": {},
   "outputs": [],
   "source": [
    "myresume.addEducation(\"SUNY\", \"3.8\", \"1997\")"
   ]
  },
  {
   "cell_type": "code",
   "execution_count": 102,
   "metadata": {},
   "outputs": [
    {
     "name": "stdout",
     "output_type": "stream",
     "text": [
      "Michael\n",
      "555\n",
      "test\n",
      "\n",
      "Experience\n",
      "programmer @ IBM\n",
      "2019-present\n",
      "programmed\n",
      "\n",
      "Education\n",
      "SUNY\n",
      "3.8\n",
      "1997\n"
     ]
    }
   ],
   "source": [
    "myresume.output()"
   ]
  },
  {
   "cell_type": "code",
   "execution_count": null,
   "metadata": {},
   "outputs": [],
   "source": []
  }
 ],
 "metadata": {
  "kernelspec": {
   "display_name": "Python 3",
   "language": "python",
   "name": "python3"
  },
  "language_info": {
   "codemirror_mode": {
    "name": "ipython",
    "version": 3
   },
   "file_extension": ".py",
   "mimetype": "text/x-python",
   "name": "python",
   "nbconvert_exporter": "python",
   "pygments_lexer": "ipython3",
   "version": "3.7.6"
  }
 },
 "nbformat": 4,
 "nbformat_minor": 4
}
